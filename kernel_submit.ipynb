{
 "cells": [
  {
   "cell_type": "markdown",
   "metadata": {},
   "source": [
    "### Importing Dependencies"
   ]
  },
  {
   "cell_type": "code",
   "execution_count": null,
   "metadata": {
    "_cell_guid": "b1076dfc-b9ad-4769-8c92-a6c4dae69d19",
    "_uuid": "8f2839f25d086af736a60e9eeb907d3b93b6e0e5"
   },
   "outputs": [],
   "source": [
    "# This Python 3 environment comes with many helpful analytics libraries installed\n",
    "# It is defined by the kaggle/python docker image: https://github.com/kaggle/docker-python\n",
    "# For example, here's several helpful packages to load in \n",
    "\n",
    "import numpy as np # linear algebra\n",
    "import pandas as pd # data processing, CSV file I/O (e.g. pd.read_csv)\n",
    "import cv2\n",
    "from tqdm import tqdm\n",
    "import keras\n",
    "import keras.backend as K \n",
    "from keras.models import Model\n",
    "from keras.layers import Dense, Dropout, Add, Input, BatchNormalization, Activation\n",
    "from keras.layers import  Conv2D, MaxPooling2D, AveragePooling2D, Flatten\n",
    "from keras.regularizers import l2\n",
    "# Input data files are available in the \"../input/\" directory.\n",
    "# For example, running this (by clicking run or pressing Shift+Enter) will list the files in the input directory\n",
    "\n",
    "import os\n",
    "print(os.listdir(\"../input\"))\n",
    "\n",
    "# Any results you write to the current directory are saved as output."
   ]
  },
  {
   "cell_type": "markdown",
   "metadata": {},
   "source": [
    "### Loading Image Data and Labels"
   ]
  },
  {
   "cell_type": "code",
   "execution_count": null,
   "metadata": {
    "_cell_guid": "79c7e3d0-c299-4dcb-8224-4455121ee9b0",
    "_uuid": "d629ff2d2480ee46fbb7e2d37f6b5fab8052498a",
    "collapsed": true
   },
   "outputs": [],
   "source": [
    "path = '../input/pan-iit/repository/aryankhandal0-PanIIT-cdc793a/training/solution.csv'\n",
    "data = pd.read_csv(path)\n",
    "data.head()"
   ]
  },
  {
   "cell_type": "code",
   "execution_count": null,
   "metadata": {
    "_uuid": "b1e9c22159723c7817072cc5a91997da6d12cc47"
   },
   "outputs": [],
   "source": [
    "train_data = []\n",
    "labels = []\n",
    "train_path = '../input/pan-iit/repository/aryankhandal0-PanIIT-cdc793a/training/training'\n",
    "for file in tqdm(os.listdir(train_path)):\n",
    "    path = os.path.join(train_path, file)\n",
    "    img = cv2.imread(path, cv2.IMREAD_GRAYSCALE) # Image used as grayscale instead of RGB\n",
    "    img = cv2.resize(img, (200, 200)) # Image size used is 200x200 pixels\n",
    "    train_data.append(np.array(img))\n",
    "    labels.append(data['category'][int(file.split('.')[0])-1])"
   ]
  },
  {
   "cell_type": "markdown",
   "metadata": {},
   "source": [
    "### Defining Functions for Model Architecture"
   ]
  },
  {
   "cell_type": "code",
   "execution_count": null,
   "metadata": {
    "_uuid": "09bf9693cc5c755f4be0b4588cb81854fbfcf83c"
   },
   "outputs": [],
   "source": [
    "def main_block(x, filters, n, strides, dropout):\n",
    "\t# Normal part\n",
    "\tx_res = Conv2D(filters, (3,3), strides=strides, padding=\"same\")(x)# , kernel_regularizer=l2(5e-4)\n",
    "\tx_res = BatchNormalization()(x_res)\n",
    "\tx_res = Activation('relu')(x_res)\n",
    "\tx_res = Conv2D(filters, (3,3), padding=\"same\")(x_res)\n",
    "\t# Alternative branch\n",
    "\tx = Conv2D(filters, (1,1), strides=strides)(x)\n",
    "\t# Merge Branches\n",
    "\tx = Add()([x_res, x])\n",
    "\n",
    "\tfor i in range(n-1):\n",
    "\t\t# Residual conection\n",
    "\t\tx_res = BatchNormalization()(x)\n",
    "\t\tx_res = Activation('relu')(x_res)\n",
    "\t\tx_res = Conv2D(filters, (3,3), padding=\"same\")(x_res)\n",
    "\t\t# Apply dropout if given\n",
    "\t\tif dropout: x_res = Dropout(dropout)(x)\n",
    "\t\t# Second part\n",
    "\t\tx_res = BatchNormalization()(x_res)\n",
    "\t\tx_res = Activation('relu')(x_res)\n",
    "\t\tx_res = Conv2D(filters, (3,3), padding=\"same\")(x_res)\n",
    "\t\t# Merge branches\n",
    "\t\tx = Add()([x, x_res])\n",
    "\n",
    "\t# Inter block part\n",
    "\tx = BatchNormalization()(x)\n",
    "\tx = Activation('relu')(x)\n",
    "\treturn x\n",
    "\n",
    "def build_model(input_dims, output_dim, n, k, act= \"relu\", dropout=None):\n",
    "\t\"\"\" Builds the model. Params:\n",
    "\t\t\t- n: number of layers. WRNs are of the form WRN-N-K\n",
    "\t\t\t\t It must satisfy that (N-4)%6 = 0\n",
    "\t\t\t- k: Widening factor. WRNs are of the form WRN-N-K\n",
    "\t\t\t\t It must satisfy that K%2 = 0\n",
    "\t\t\t- input_dims: input dimensions for the model\n",
    "\t\t\t- output_dim: output dimensions for the model\n",
    "\t\t\t- dropout: dropout rate - default=0 (not recomended >0.3)\n",
    "\t\t\t- act: activation function - default=relu. Build your custom\n",
    "\t\t\t\t   one with keras.backend (ex: swish, e-swish)\n",
    "\t\"\"\"\n",
    "\t# Ensure n & k are correct\n",
    "\tassert (n-4)%6 == 0\n",
    "\tassert k%2 == 0\n",
    "\tn = (n-4)//6 \n",
    "\t# This returns a tensor input to the model\n",
    "\tinputs = Input(shape=(input_dims))\n",
    "\n",
    "\t# Head of the model\n",
    "\tx = Conv2D(16, (3,3), padding=\"same\")(inputs)\n",
    "\tx = BatchNormalization()(x)\n",
    "\tx = Activation('relu')(x)\n",
    "\n",
    "\t# 3 Blocks (normal-residual)\n",
    "\tx = main_block(x, 16*k, n, (1,1), dropout) # 0\n",
    "\tx = main_block(x, 32*k, n, (2,2), dropout) # 1\n",
    "\tx = main_block(x, 64*k, n, (2,2), dropout) # 2\n",
    "\t\t\t\n",
    "\t# Final part of the model\n",
    "\tx = AveragePooling2D((8,8))(x)\n",
    "\tx = Flatten()(x)\n",
    "\toutputs = Dense(output_dim, activation=\"softmax\")(x)\n",
    "\n",
    "\tmodel = Model(inputs=inputs, outputs=outputs)\n",
    "\treturn model\n",
    "\n",
    "\n",
    "if __name__ == \"__main__\":\n",
    "\tmodel = build_model((100,100,1), 6, 22, 8)\n",
    "\tmodel.summary()"
   ]
  },
  {
   "cell_type": "markdown",
   "metadata": {},
   "source": [
    "### Compiling and Fitting the Model"
   ]
  },
  {
   "cell_type": "code",
   "execution_count": null,
   "metadata": {
    "_uuid": "0465126294b4f59b942f78800a1fa26ec21df3f1"
   },
   "outputs": [],
   "source": [
    "shape, classes = (200, 200, 1), 7\n",
    "model = build_model(shape, classes, 22, 4)\n",
    "model.compile(\"adam\", \"categorical_crossentropy\", [\"accuracy\"])\n",
    "model.fit(X, y, epochs=40)"
   ]
  },
  {
   "cell_type": "markdown",
   "metadata": {},
   "source": [
    "### Loading Test Data in the Notebook"
   ]
  },
  {
   "cell_type": "code",
   "execution_count": null,
   "metadata": {
    "_uuid": "f161bc361c9b013287808ee62355d2e671b41a43"
   },
   "outputs": [],
   "source": [
    "test_data = []\n",
    "sno = []\n",
    "test_path = 'PanIIT/testing'\n",
    "for file in tqdm(os.listdir(test_path)):\n",
    "    path = os.path.join(test_path, file)\n",
    "    img = cv2.imread(path, cv2.IMREAD_GRAYSCALE)\n",
    "    img = cv2.resize(img, (200, 200))\n",
    "    name = int(file.split('.')[0])\n",
    "    sno.append(name)\n",
    "    test_data.append(np.array(img))"
   ]
  },
  {
   "cell_type": "markdown",
   "metadata": {},
   "source": [
    "### Reshaping Tesing Data "
   ]
  },
  {
   "cell_type": "code",
   "execution_count": null,
   "metadata": {
    "_uuid": "55933a1f1e60c091b7e4fc31dc941f7d9e9830bb"
   },
   "outputs": [],
   "source": [
    "X = test_data\n",
    "X = np.array(X).reshape(len(X),200,200,1)\n",
    "X = X/255.0"
   ]
  },
  {
   "cell_type": "markdown",
   "metadata": {},
   "source": [
    "### Making Predictions on the Test Data"
   ]
  },
  {
   "cell_type": "code",
   "execution_count": null,
   "metadata": {
    "_uuid": "4ea6c81f58fc36fdd1ae1bca1db1dc757a66bbac"
   },
   "outputs": [],
   "source": [
    "label = []\n",
    "for i in tqdm(range(len(X1))):\n",
    "    y = model.predict(X1[i:i+1])\n",
    "    label.append(np.argmax(y))"
   ]
  },
  {
   "cell_type": "markdown",
   "metadata": {},
   "source": [
    "### Exporting the submission File"
   ]
  },
  {
   "cell_type": "code",
   "execution_count": null,
   "metadata": {
    "_uuid": "f681c1af55579b46e9696c7046cb0a531ee3aa3e"
   },
   "outputs": [],
   "source": [
    "data = { 'id': sno, 'category': label}\n",
    "submission = pd.DataFrame(data)\n",
    "submission.head()"
   ]
  },
  {
   "cell_type": "code",
   "execution_count": null,
   "metadata": {
    "_uuid": "e23e631f5a8b6b965a9eb2e640fe9a7e2c15225f"
   },
   "outputs": [],
   "source": [
    "submission.to_csv('finalsubmit.csv',index=False)"
   ]
  }
 ],
 "metadata": {
  "kernelspec": {
   "display_name": "Python 3",
   "language": "python",
   "name": "python3"
  },
  "language_info": {
   "codemirror_mode": {
    "name": "ipython",
    "version": 3
   },
   "file_extension": ".py",
   "mimetype": "text/x-python",
   "name": "python",
   "nbconvert_exporter": "python",
   "pygments_lexer": "ipython3",
   "version": "3.7.0"
  }
 },
 "nbformat": 4,
 "nbformat_minor": 1
}
